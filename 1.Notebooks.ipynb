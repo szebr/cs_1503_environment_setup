{
 "cells": [
  {
   "cell_type": "markdown",
   "id": "a9f8c260",
   "metadata": {},
   "source": [
    "# First Notebook for CS1503\n",
    "\n",
    "1. Brendan Szewczyk\n",
    "2. Thursday, January 25th, 2024"
   ]
  },
  {
   "cell_type": "markdown",
   "id": "7395df2c",
   "metadata": {},
   "source": [
    "## Markdown Exercises\n",
    "\n",
    "I've been interested in machine learning and working on it professionally for many years. I can't *fully* explain why -- but I just personally find the idea really fascinating. I believe in the possibility of a **technological singularity**; I would even say I think it's inevitable, to some extent, and I would like to be a part of that in some small way. Understanding how it works has always been really interesting to me, and taking <ins>Intro to Machine Learning with Patrick Skeba</ins> last semester really cemented my interest.\n",
    "\n",
    "For this course, I'd like to:\n",
    "- Reinforce the knowledge I gained last semester and double down on the fundamentals,\n",
    "- Fill in any gaps in the mathematical underpinnings behind machine learning algorithms that I've already learned about,\n",
    "- Explore new algorithms in a practical context that help me use machine learning in my own projects in a more meaningful way."
   ]
  },
  {
   "cell_type": "markdown",
   "id": "f1a16767",
   "metadata": {},
   "source": [
    "## A GIF\n",
    "\n",
    "Here's a GIF.\n",
    "\n",
    "![](https://media3.giphy.com/media/v1.Y2lkPTc5MGI3NjExYXM1MjZ2eGNjejhmaDJ1bG5uajEycHZkMnJjd2I3ejB1MGo5ODRhbiZlcD12MV9pbnRlcm5hbF9naWZfYnlfaWQmY3Q9Zw/u1urtU40fCC1BX48rK/giphy.gif)"
   ]
  },
  {
   "cell_type": "markdown",
   "id": "f25c10b1",
   "metadata": {},
   "source": [
    "## Jupyter Notebook Exercises"
   ]
  },
  {
   "cell_type": "code",
   "execution_count": 2,
   "id": "559e0adf",
   "metadata": {},
   "outputs": [
    {
     "name": "stdout",
     "output_type": "stream",
     "text": [
      "What is your name? Brendan\n",
      "Hello Brendan !\n"
     ]
    }
   ],
   "source": [
    "name = input(prompt = \"What is your name? \")\n",
    "print(\"Hello\", name, \"!\")"
   ]
  },
  {
   "cell_type": "code",
   "execution_count": null,
   "id": "660408d5",
   "metadata": {},
   "outputs": [],
   "source": []
  }
 ],
 "metadata": {
  "kernelspec": {
   "display_name": "Python 3 (ipykernel)",
   "language": "python",
   "name": "python3"
  },
  "language_info": {
   "codemirror_mode": {
    "name": "ipython",
    "version": 3
   },
   "file_extension": ".py",
   "mimetype": "text/x-python",
   "name": "python",
   "nbconvert_exporter": "python",
   "pygments_lexer": "ipython3",
   "version": "3.11.5"
  }
 },
 "nbformat": 4,
 "nbformat_minor": 5
}
