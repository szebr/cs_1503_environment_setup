{
 "cells": [
  {
   "cell_type": "markdown",
   "metadata": {},
   "source": [
    "# 2. Programming in Python\n",
    "\n",
    "Go over these basics of the Python programming language if you need to refresh Python syntax. \n",
    "\n",
    "Do all the exercises at the end of this notebook -- but only if you are new to  Python. Use your TAs for help if you get stuck.\n",
    "\n",
    "If you already know how to program in Python, then go directly to **Exercise 7** and **Exercise 8** at the end of this notebook and complete them to self-test your skills.\n",
    "\n",
    "If you feel that you need more details on Python language, you can use the following book:"
   ]
  },
  {
   "cell_type": "markdown",
   "metadata": {},
   "source": [
    "## Book *Python for Everybody*\n",
    "\n",
    "*Python for Everybody* is a free online textbook published under the Creative Commons Licence that is a great starter and reference guide for python. The book is available as a PDF and epub from the writer for free [here](https://www.py4e.com/book.php).  Some sections of *Python for Everybody* have been adapted from another book, *How to think like a Computer Scientist: Learning with Python* by Allen Downey, Jeff Elkner and Chris Meyers.  This book is also available for free online [here](https://greenteapress.com/wp/learning-with-python/)."
   ]
  },
  {
   "cell_type": "markdown",
   "metadata": {},
   "source": [
    "## Strings\n",
    "* The syntax for strings is double (\") or single (') quotes."
   ]
  },
  {
   "cell_type": "code",
   "execution_count": null,
   "metadata": {},
   "outputs": [],
   "source": [
    "print(\"hello world\")"
   ]
  },
  {
   "cell_type": "code",
   "execution_count": null,
   "metadata": {},
   "outputs": [],
   "source": [
    "print(hello world)"
   ]
  },
  {
   "cell_type": "code",
   "execution_count": null,
   "metadata": {},
   "outputs": [],
   "source": [
    "type(\"Hello World\")"
   ]
  },
  {
   "cell_type": "code",
   "execution_count": null,
   "metadata": {},
   "outputs": [],
   "source": [
    "type('Hello World')"
   ]
  },
  {
   "cell_type": "markdown",
   "metadata": {},
   "source": [
    "* Note: You can't mix and match quotes!"
   ]
  },
  {
   "cell_type": "code",
   "execution_count": null,
   "metadata": {},
   "outputs": [],
   "source": [
    "print(\"Hello world')"
   ]
  },
  {
   "cell_type": "markdown",
   "metadata": {},
   "source": [
    "* Most people use double quotes because then you can embed apostrophes inside the text."
   ]
  },
  {
   "cell_type": "code",
   "execution_count": null,
   "metadata": {},
   "outputs": [],
   "source": [
    "print('I can','t even!')"
   ]
  },
  {
   "cell_type": "code",
   "execution_count": null,
   "metadata": {},
   "outputs": [],
   "source": [
    "print(\"I can't even, \\n either!\")"
   ]
  },
  {
   "cell_type": "markdown",
   "metadata": {},
   "source": [
    "---"
   ]
  },
  {
   "cell_type": "markdown",
   "metadata": {},
   "source": [
    "## Variables"
   ]
  },
  {
   "cell_type": "code",
   "execution_count": null,
   "metadata": {},
   "outputs": [],
   "source": [
    "message = \"Hello, what a wonderful Thursday morning.\"\n",
    "number = 3\n",
    "pi = 3.1415926535897931"
   ]
  },
  {
   "cell_type": "markdown",
   "metadata": {},
   "source": [
    "* This code creates three variables of different data types.\n",
    "* The `type` of a variable is deduced freom the type of the value it refers to."
   ]
  },
  {
   "cell_type": "code",
   "execution_count": null,
   "metadata": {},
   "outputs": [],
   "source": [
    "type(message)"
   ]
  },
  {
   "cell_type": "code",
   "execution_count": null,
   "metadata": {},
   "outputs": [],
   "source": [
    "type(number)"
   ]
  },
  {
   "cell_type": "code",
   "execution_count": null,
   "metadata": {},
   "outputs": [],
   "source": [
    "type(pi)"
   ]
  },
  {
   "cell_type": "markdown",
   "metadata": {},
   "source": [
    "---"
   ]
  },
  {
   "cell_type": "markdown",
   "metadata": {},
   "source": [
    "## Operators\n",
    "\n",
    "* All of the mathematical operators you know and love are available in Python\n",
    "    * Addition: `+`\n",
    "    * Subtraction: `-`\n",
    "    * Multiplication: `*`\n",
    "    * Division: `/`  (the result is always a float)\n",
    "    * Integer division: `//` (produces an integral part of division without remainder)\n",
    "    * Modulus: `%` (remainder after integer division)"
   ]
  },
  {
   "cell_type": "markdown",
   "metadata": {},
   "source": [
    "### String Operators\n",
    "\n",
    "* You can concatenate strings using `+` operator. You cannot concatenate mixed data types in Python:"
   ]
  },
  {
   "cell_type": "code",
   "execution_count": null,
   "metadata": {},
   "outputs": [],
   "source": [
    "a = 2\n",
    "b = '2'\n",
    "\n",
    "a + b"
   ]
  },
  {
   "cell_type": "markdown",
   "metadata": {},
   "source": [
    "To correct: convert the number to string"
   ]
  },
  {
   "cell_type": "code",
   "execution_count": null,
   "metadata": {},
   "outputs": [],
   "source": [
    "a = str(2)\n",
    "b = '2'\n",
    "\n",
    "a + b"
   ]
  },
  {
   "cell_type": "markdown",
   "metadata": {},
   "source": [
    "---"
   ]
  },
  {
   "cell_type": "markdown",
   "metadata": {},
   "source": [
    "## User Input"
   ]
  },
  {
   "cell_type": "code",
   "execution_count": null,
   "metadata": {},
   "outputs": [],
   "source": [
    "# ask for the user's name and put it in a variable called name\n",
    "name = input(\"What is your name?\")"
   ]
  },
  {
   "cell_type": "code",
   "execution_count": null,
   "metadata": {},
   "outputs": [],
   "source": [
    "# now print the contents of the variable called name\n",
    "print(name)"
   ]
  },
  {
   "cell_type": "markdown",
   "metadata": {},
   "source": [
    "---"
   ]
  },
  {
   "cell_type": "markdown",
   "metadata": {},
   "source": [
    "## Functions\n",
    "\n",
    "A **function**, most basically, is a piece of code that executes together when you call the function's name."
   ]
  },
  {
   "cell_type": "code",
   "execution_count": null,
   "metadata": {},
   "outputs": [],
   "source": [
    "def lyrics():\n",
    "    print(\"This is the song that never ends.\")\n",
    "    print(\"It goes on and on, my friends.\")\n",
    "\n",
    "def song():\n",
    "    lyrics()\n",
    "    lyrics()\n",
    "    \n",
    "song()"
   ]
  },
  {
   "cell_type": "markdown",
   "metadata": {},
   "source": [
    "---"
   ]
  },
  {
   "cell_type": "markdown",
   "metadata": {},
   "source": [
    "## Control Flow\n",
    "\n",
    "* We use *boolean expressions* (True, False) to answer Yes/No questions and decide which path to execute."
   ]
  },
  {
   "cell_type": "markdown",
   "metadata": {},
   "source": [
    "### Conditional execution\n",
    "\n",
    "* use the `if`, `else`, and `elif` statements to steer the direction of your program.\n",
    "* indent the code block to show that it is executed when the condition is true."
   ]
  },
  {
   "cell_type": "code",
   "execution_count": null,
   "metadata": {},
   "outputs": [],
   "source": [
    "# test to see if x is positive and print if it is\n",
    "x = 5\n",
    "if x > 0:\n",
    "    print(\"x is a positive number\")"
   ]
  },
  {
   "cell_type": "code",
   "execution_count": null,
   "metadata": {},
   "outputs": [],
   "source": [
    "if x == 5:\n",
    "    print(\"yup\")\n",
    "    print(\"Yup, five is five\")"
   ]
  },
  {
   "cell_type": "code",
   "execution_count": null,
   "metadata": {},
   "outputs": [],
   "source": [
    "if 5 == 6:\n",
    "    print(\"five is six, huh?\")\n",
    "    print(\"this won't run\")\n",
    "    \n",
    "# This line executes no matter what\n",
    "print(\"I am done.\")"
   ]
  },
  {
   "cell_type": "code",
   "execution_count": null,
   "metadata": {},
   "outputs": [],
   "source": [
    "# check to see if x is even or odd\n",
    "x = 20\n",
    "if (x % 2) == 0: # using the modulo operator\n",
    "    print(\"x is even\")\n",
    "else:\n",
    "    print(\"x is odd\")"
   ]
  },
  {
   "cell_type": "code",
   "execution_count": null,
   "metadata": {},
   "outputs": [],
   "source": [
    "# multiple conditions\n",
    "age = int(input(\"Give me your age\"))\n",
    "\n",
    "if 0 < age < 1:\n",
    "    print(\"baby\")\n",
    "elif 1 <= age <= 3:\n",
    "    print(\"toddler\")\n",
    "elif 3 <= age <= 9:\n",
    "    print(\"kid\")\n",
    "elif 10 <= age <= 12:\n",
    "    print(\"Tween\")\n",
    "elif 13 <= age <= 17:\n",
    "    print(\"Teen\")\n",
    "elif 18 <= age < 120:\n",
    "    print(\"Adult, welcome to misery.\")\n",
    "else:\n",
    "    print(\"No one can live that long!\")\n",
    "    "
   ]
  },
  {
   "cell_type": "markdown",
   "metadata": {},
   "source": [
    "### While loops\n",
    "\n",
    "The while loops allow you to repeat an arbitrary section of code as long as some boolean condition is true:"
   ]
  },
  {
   "cell_type": "code",
   "execution_count": null,
   "metadata": {},
   "outputs": [],
   "source": [
    "count = 0\n",
    "\n",
    "while count<5:\n",
    "    lyrics()\n",
    "    count += 1"
   ]
  },
  {
   "cell_type": "markdown",
   "metadata": {},
   "source": [
    "### For loops\n",
    "For loops allow you to repeat a section of code a predefined number of times. There are no proper For loops in Python. All for loops are over sequences. \n",
    "\n",
    "If the sequence exists the loop body is executed for each element of the sequence:  "
   ]
  },
  {
   "cell_type": "code",
   "execution_count": null,
   "metadata": {},
   "outputs": [],
   "source": [
    "my_friends = [\"Bob\", \"Susan\", \"Noah\", \"Amanda\"]\n",
    "\n",
    "for friend in my_friends:\n",
    "    print(\"Hello,\", friend)"
   ]
  },
  {
   "cell_type": "markdown",
   "metadata": {},
   "source": [
    "But for example to execute the *lyrics* function 5 times, we first need to create a sequence of numbers (0,1,2,3,4) and then use the for loop that iterates over this sequence."
   ]
  },
  {
   "cell_type": "code",
   "execution_count": null,
   "metadata": {},
   "outputs": [],
   "source": [
    "def lyrics():\n",
    "    print(\"This is the song that never ends.\")\n",
    "    print(\"It goes on and on, my friends.\")\n",
    "\n",
    "for i in range(5):\n",
    "    lyrics()\n",
    "    count += 1"
   ]
  },
  {
   "cell_type": "markdown",
   "metadata": {},
   "source": [
    "---"
   ]
  },
  {
   "cell_type": "markdown",
   "metadata": {},
   "source": [
    "## Exception Handling\n",
    "\n",
    "* Sometimes you rely on the user to give you a number but they give you something else\n",
    "* If you try to convert this input to a number you will get an error\n",
    "\n",
    "Try to run the following and enter the string \"two\" when prompted:"
   ]
  },
  {
   "cell_type": "code",
   "execution_count": null,
   "metadata": {},
   "outputs": [],
   "source": [
    "# prompt the user for a number\n",
    "number = input(\"Input a number:\")\n",
    "doubled = number*2"
   ]
  },
  {
   "cell_type": "markdown",
   "metadata": {},
   "source": [
    "You can use the `try/except` statements to \"catch\" user error."
   ]
  },
  {
   "cell_type": "code",
   "execution_count": null,
   "metadata": {},
   "outputs": [],
   "source": [
    "# prompt the user for a number\n",
    "number = input(\"Input a number:\")\n",
    "try:\n",
    "    int_number = int(number)\n",
    "    print(\"Thank you for inputting an integer\")\n",
    "except:    \n",
    "    print(\"That is not a number. Try again\")"
   ]
  },
  {
   "cell_type": "markdown",
   "metadata": {},
   "source": [
    "---"
   ]
  },
  {
   "cell_type": "markdown",
   "metadata": {},
   "source": [
    "## Packages\n",
    "\n",
    "Functionalities provided by Python are grouped into **packages**. To use the functionality defined in the package just put the words `import` and the package name you want to import. "
   ]
  },
  {
   "cell_type": "code",
   "execution_count": null,
   "metadata": {},
   "outputs": [],
   "source": [
    "import random # see how easy that is?\n",
    "\n",
    "x = random.random()\n",
    "print(x)"
   ]
  },
  {
   "cell_type": "markdown",
   "metadata": {},
   "source": [
    "---"
   ]
  },
  {
   "cell_type": "markdown",
   "metadata": {},
   "source": [
    "## Files\n",
    "\n",
    "Opening files in Python is just as simple as knowing the name of the file.\n",
    "\n",
    "Whenever you open a file, you should always *always* **always** make sure you **close the file!**. Not closing a file has many potential side effects."
   ]
  },
  {
   "cell_type": "code",
   "execution_count": 1,
   "metadata": {},
   "outputs": [
    {
     "name": "stdout",
     "output_type": "stream",
     "text": [
      "Line Count: 2\n"
     ]
    }
   ],
   "source": [
    "myfile = open(\"info.txt\")\n",
    "count = 0\n",
    "\n",
    "for line in myfile:\n",
    "    count = count + 1\n",
    "print('Line Count:', count)"
   ]
  },
  {
   "cell_type": "code",
   "execution_count": 4,
   "metadata": {},
   "outputs": [
    {
     "name": "stdout",
     "output_type": "stream",
     "text": [
      "Jeff Goldblum\n",
      "\n",
      "['Jeff', 'Goldblum']\n",
      "['69']\n"
     ]
    }
   ],
   "source": [
    "infofile = open(\"info.txt\")\n",
    "\n",
    "firstline = infofile.readline()\n",
    "secondline = infofile.readline()\n",
    "\n",
    "print(firstline)\n",
    "\n",
    "f = firstline.split()\n",
    "s = secondline.split()\n",
    "\n",
    "print(f)\n",
    "print(s)\n",
    "\n",
    "infofile.close()"
   ]
  },
  {
   "cell_type": "markdown",
   "metadata": {},
   "source": [
    "---"
   ]
  },
  {
   "cell_type": "markdown",
   "metadata": {},
   "source": [
    "## Lists"
   ]
  },
  {
   "cell_type": "code",
   "execution_count": null,
   "metadata": {},
   "outputs": [],
   "source": [
    "my_friends = [\"Bob\", \"Samson\", \"Tom\", \"Amanda\"]\n",
    "\n",
    "for friend in my_friends:\n",
    "    print(\"Hello,\", friend)"
   ]
  },
  {
   "cell_type": "code",
   "execution_count": null,
   "metadata": {},
   "outputs": [],
   "source": [
    "my_friends.append(\"Jeff\")\n",
    "my_friends.sort()\n",
    "my_friends"
   ]
  },
  {
   "cell_type": "code",
   "execution_count": null,
   "metadata": {},
   "outputs": [],
   "source": [
    "my_friends.remove(\"Tom\")\n",
    "my_friends"
   ]
  },
  {
   "cell_type": "markdown",
   "metadata": {},
   "source": [
    "---"
   ]
  },
  {
   "cell_type": "markdown",
   "metadata": {},
   "source": [
    "## Dictionaries\n",
    "* key-value pairs\n",
    "* fast lookup of a value by key"
   ]
  },
  {
   "cell_type": "code",
   "execution_count": null,
   "metadata": {},
   "outputs": [],
   "source": [
    "counts = {'chuck': 1 , 'annie': 42, 'jan': 100}\n",
    "\n",
    "print(counts['chuck'])"
   ]
  },
  {
   "cell_type": "code",
   "execution_count": null,
   "metadata": {},
   "outputs": [],
   "source": [
    "counts['lucy'] = 5\n",
    "\n",
    "print(counts)"
   ]
  },
  {
   "cell_type": "code",
   "execution_count": null,
   "metadata": {},
   "outputs": [],
   "source": [
    "coolfriends = {'Susanne': True, 'Bob': True, 'Tom': False}\n",
    "french = {\n",
    "    'hello': 'bonjour',\n",
    "    'your elephant is on fire': 'ton éléphant est en feu',\n",
    "    'ask the owl': 'demander à la choutte',\n",
    "}\n",
    "\n",
    "print(\"Is Tom a cool friend?\", coolfriends['Tom'])\n",
    "print(\"'Hello' in French is\", french['hello'])"
   ]
  },
  {
   "cell_type": "markdown",
   "metadata": {},
   "source": [
    "## Test yourself with these exercises\n",
    "\n",
    "#### **Exercise 1**\n",
    "\n",
    "Write a program which prompts the user for a **temperature** and then asks if it was Celsius or Fahrenheit. If it was Celsius, **convert it** to Fahrenheit; if Fahrenheit, convert to Celsius. Then, **print** the converted temperature. \n",
    "\n",
    "Make sure that the program does not fail when the user enters an invalid input.\n",
    "\n",
    "You'll have to search for the conversion formula and then implement it in code. Also, you don't have to ask the user to type in \"Celsius\" or \"Fahrenheit\"; your prompt can be as simple as \"Enter 1 if this temperature was Fahrenheit, or 0 if it was Celsius.\" That way, you're able to do something like `if isFahrenheit == 0` rather than exact string matching."
   ]
  },
  {
   "cell_type": "code",
   "execution_count": null,
   "metadata": {},
   "outputs": [],
   "source": [
    "# your code here"
   ]
  },
  {
   "cell_type": "markdown",
   "metadata": {},
   "source": [
    "#### **Exercise 2**\n",
    "\n",
    "You're going to make a program that takes scores on a scale of 0 to 100 and returns a letter grade. If the user enters a valid score, print out a letter from A to F. If the user enters invalid input, print out an error message.\n",
    "\n",
    "Use the following table to do your conversions: \n",
    "    \n",
    "Score  | Grade\n",
    "-------|-------\n",
    "94-100 | A\n",
    "85-93  | B\n",
    "74-84  | C\n",
    "63-73  | D\n",
    "≤62    | F\n",
    "    \n",
    "(Note: this *isn't* the scale we're using in this class. Just an example. :D)\n",
    "\n",
    "Make sure you **test your program multiple times** with different inputs to make sure you handled errors and the different scores properly. You won't be graded on this, but **commenting** your code can make it easier for you to understand the many different statements in a row that you'll be writing."
   ]
  },
  {
   "cell_type": "code",
   "execution_count": null,
   "metadata": {},
   "outputs": [],
   "source": [
    "# your code here"
   ]
  },
  {
   "cell_type": "markdown",
   "metadata": {},
   "source": [
    "#### **Exercise 3**\n",
    "\n",
    "Write a program that **lets the user enter** as many integers as they want. When any input that's not an integer is entered, the user is done entering integers. After they're done, print out the **average** of all the integers entered.\n",
    "\n",
    "Be sure to test this with a wide range of numbers, to make sure it's doing what you want it to."
   ]
  },
  {
   "cell_type": "code",
   "execution_count": null,
   "metadata": {},
   "outputs": [],
   "source": [
    "# your code here"
   ]
  },
  {
   "cell_type": "markdown",
   "metadata": {},
   "source": [
    "#### **Exercise 4**\n",
    "\n",
    "Write a program that lets a user **enter a string**, and have your program **how many** vowels and consonants are in the word  (vowels are 'aeiou' -- the rest are consonants).\n",
    "\n",
    "You're going to want to convert the string to all lower-case before you do any counts of characters. \n",
    "\n",
    "Once you have the number of vowels, you don't have to loop through the word *again* to test for consonants. How can you find the number of consonants in a word with just the number of vowels?"
   ]
  },
  {
   "cell_type": "code",
   "execution_count": null,
   "metadata": {},
   "outputs": [],
   "source": [
    "# your code here"
   ]
  },
  {
   "cell_type": "markdown",
   "metadata": {},
   "source": [
    "#### **Exercise 5**\n",
    "\n",
    "Below, you are given a string from a spam filter. Using string methods, get rid of everything before the colon and the spacing until you have just the number. Then, convert the number into a float, and convert it into a percentage. Print out the percentage."
   ]
  },
  {
   "cell_type": "code",
   "execution_count": 9,
   "metadata": {},
   "outputs": [
    {
     "name": "stdout",
     "output_type": "stream",
     "text": [
      "84.75%\n"
     ]
    }
   ],
   "source": [
    "spam_string = 'X-DSPAM-Confidence: 0.8475 '\n",
    "\n",
    "percentage = float(spam_string.split()[1]) * 100\n",
    "\n",
    "print(\"{}%\".format(percentage))"
   ]
  },
  {
   "cell_type": "markdown",
   "metadata": {},
   "source": [
    "#### **Exercise 6**\n",
    "\n",
    "Below are the lines of a program that adds some things to a list of my favorite foods, sorts the list, and then prints the foods out in alphabetical order. The problem is that, when I was uploading this program to the supercomputer, my internet stopped working and my program's lines got all mixed up.\n",
    "\n",
    "Your task is this: rearrange the lines below so the program sorts and then prints the elements in my list of foods. When you've got the order all sorted out, put it in the code cell below. And thanks for your help!\n",
    "\n",
    "```python\n",
    "my_fave_foods.sort()\n",
    "for food in my_fave_foods:\n",
    "my_fave_foods.append(\"asiago cheese\")\n",
    "my_fave_foods = [\"serrano peppers\", \"bananas\", \"apple pie\", \"veal\", \"smoked brisket\"]\n",
    "    print(food)\n",
    "```"
   ]
  },
  {
   "cell_type": "code",
   "execution_count": null,
   "metadata": {},
   "outputs": [],
   "source": [
    "# your code here"
   ]
  },
  {
   "cell_type": "markdown",
   "metadata": {},
   "source": [
    "#### **Exercise 7**\n",
    "This exercise deals with a test file, `spam.txt`. \n",
    "\n",
    "You're going to be writing a program that deals with a list of spam confidence values. The file, spam.txt, looks something like this:"
   ]
  },
  {
   "cell_type": "raw",
   "metadata": {},
   "source": [
    "X-DSPAM-Confidence: 0.8475\n",
    "X-DSPAM-Confidence: 0.9288\n",
    "X-DSPAM-Confidence: 0.0129\n",
    "X-DSPAM-Confidence: 0.5102\n",
    "X-DSPAM-Confidence: 0.8912\n",
    "..."
   ]
  },
  {
   "cell_type": "markdown",
   "metadata": {},
   "source": [
    "There are 500 spam confidence values in the file `spam1.txt`. I want you to tell me two things about the values:\n",
    "\n",
    "1. The **average** of all of the spam values in the file, and\n",
    "1. **How many** emails have a spam value of over 95% (so, >0.95).\n",
    "\n",
    "You'll need to read the file line by line and process each line so you can get the float."
   ]
  },
  {
   "cell_type": "code",
   "execution_count": 28,
   "metadata": {
    "scrolled": true
   },
   "outputs": [
    {
     "name": "stdout",
     "output_type": "stream",
     "text": [
      "The average spam value of all the values in the file is 75.08%.\n",
      "There are 68 values that are over 95%.\n"
     ]
    }
   ],
   "source": [
    "file = open('spam.txt')\n",
    "\n",
    "line_count = 500\n",
    "total = 0.0\n",
    "above_95 = 0\n",
    "\n",
    "for line in file:\n",
    "    value = float(line.split()[1])\n",
    "    total += value\n",
    "    \n",
    "    if value > 0.95:\n",
    "        above_95 += 1\n",
    "        \n",
    "infofile.close()\n",
    "        \n",
    "average = (total / line_count) * 100\n",
    "\n",
    "print(\"The average spam value of all the values in the file is {:,.2f}%.\".format(average))\n",
    "print(\"There are {} values that are over 95%.\".format(above_95))"
   ]
  },
  {
   "cell_type": "markdown",
   "metadata": {},
   "source": [
    "#### **Exercise 8**\n",
    "Read in the file richard3.txt. Iterate through the lines in the file and, for each word, if this is its first occurence, add the word as a key to the dictionary and the number \"1\" as a value. If the word exists in the dictionary, add one to its value.\n",
    "\n",
    "Then, print out your word-frequency dictionary."
   ]
  },
  {
   "cell_type": "code",
   "execution_count": 33,
   "metadata": {},
   "outputs": [
    {
     "name": "stdout",
     "output_type": "stream",
     "text": [
      "Dictionary of words in \n",
      "now: 3 occurances\n",
      "is: 1 occurance\n",
      "the: 13 occurances\n",
      "winter: 1 occurance\n",
      "of: 11 occurances\n",
      "our: 6 occurances\n",
      "discontent: 1 occurance\n",
      "made: 3 occurances\n",
      "glorious: 1 occurance\n",
      "summer: 1 occurance\n",
      "by: 4 occurances\n",
      "this: 5 occurances\n",
      "sun: 2 occurances\n",
      "york: 1 occurance\n",
      "and: 13 occurances\n",
      "all: 1 occurance\n",
      "clouds: 1 occurance\n",
      "that: 7 occurances\n",
      "lour'd: 1 occurance\n",
      "upon: 1 occurance\n",
      "house: 1 occurance\n",
      "in: 5 occurances\n",
      "deep: 1 occurance\n",
      "bosom: 1 occurance\n",
      "ocean: 1 occurance\n",
      "buried: 1 occurance\n",
      "are: 1 occurance\n",
      "brows: 1 occurance\n",
      "bound: 1 occurance\n",
      "with: 1 occurance\n",
      "victorious: 1 occurance\n",
      "wreaths: 1 occurance\n",
      "bruised: 1 occurance\n",
      "arms: 1 occurance\n",
      "hung: 1 occurance\n",
      "up: 3 occurances\n",
      "for: 2 occurances\n",
      "monuments: 1 occurance\n",
      "stern: 1 occurance\n",
      "alarums: 1 occurance\n",
      "changed: 1 occurance\n",
      "to: 12 occurances\n",
      "merry: 1 occurance\n",
      "meetings: 1 occurance\n",
      "dreadful: 1 occurance\n",
      "marches: 1 occurance\n",
      "delightful: 1 occurance\n",
      "measures: 1 occurance\n",
      "grim: 1 occurance\n",
      "visaged: 1 occurance\n",
      "war: 1 occurance\n",
      "hath: 1 occurance\n",
      "smooth'd: 1 occurance\n",
      "his: 1 occurance\n",
      "wrinkled: 1 occurance\n",
      "front: 1 occurance\n",
      "instead: 1 occurance\n",
      "mounting: 1 occurance\n",
      "barded: 1 occurance\n",
      "steeds: 1 occurance\n",
      "fright: 1 occurance\n",
      "souls: 1 occurance\n",
      "fearful: 1 occurance\n",
      "adversaries: 1 occurance\n",
      "he: 1 occurance\n",
      "capers: 1 occurance\n",
      "nimbly: 1 occurance\n",
      "a: 6 occurances\n",
      "lady's: 1 occurance\n",
      "chamber: 1 occurance\n",
      "lascivious: 1 occurance\n",
      "pleasing: 1 occurance\n",
      "lute: 1 occurance\n",
      "but: 1 occurance\n",
      "i: 9 occurances\n",
      "am: 5 occurances\n",
      "not: 1 occurance\n",
      "shaped: 1 occurance\n",
      "sportive: 1 occurance\n",
      "tricks: 1 occurance\n",
      "nor: 1 occurance\n",
      "court: 1 occurance\n",
      "an: 1 occurance\n",
      "amorous: 1 occurance\n",
      "looking: 1 occurance\n",
      "glass: 1 occurance\n",
      "rudely: 1 occurance\n",
      "stamp'd: 1 occurance\n",
      "want: 1 occurance\n",
      "love's: 1 occurance\n",
      "majesty: 1 occurance\n",
      "strut: 1 occurance\n",
      "before: 2 occurances\n",
      "wanton: 1 occurance\n",
      "ambling: 1 occurance\n",
      "nymph: 1 occurance\n",
      "curtail'd: 1 occurance\n",
      "fair: 2 occurances\n",
      "proportion: 1 occurance\n",
      "cheated: 1 occurance\n",
      "feature: 1 occurance\n",
      "dissembling: 1 occurance\n",
      "nature: 1 occurance\n",
      "deformed: 1 occurance\n",
      "unfinish'd: 1 occurance\n",
      "sent: 1 occurance\n",
      "my: 4 occurances\n",
      "time: 3 occurances\n",
      "into: 1 occurance\n",
      "breathing: 1 occurance\n",
      "world: 1 occurance\n",
      "scarce: 1 occurance\n",
      "half: 1 occurance\n",
      "so: 1 occurance\n",
      "lamely: 1 occurance\n",
      "unfashionable: 1 occurance\n",
      "dogs: 1 occurance\n",
      "bark: 1 occurance\n",
      "at: 1 occurance\n",
      "me: 1 occurance\n",
      "as: 3 occurances\n",
      "halt: 1 occurance\n",
      "them: 1 occurance\n",
      "why: 1 occurance\n",
      "weak: 1 occurance\n",
      "piping: 1 occurance\n",
      "peace: 1 occurance\n",
      "have: 2 occurances\n",
      "no: 1 occurance\n",
      "delight: 1 occurance\n",
      "pass: 1 occurance\n",
      "away: 1 occurance\n",
      "unless: 1 occurance\n",
      "spy: 1 occurance\n",
      "shadow: 1 occurance\n",
      "descant: 1 occurance\n",
      "on: 1 occurance\n",
      "mine: 1 occurance\n",
      "own: 1 occurance\n",
      "deformity: 1 occurance\n",
      "therefore: 1 occurance\n",
      "since: 1 occurance\n",
      "cannot: 1 occurance\n",
      "prove: 2 occurances\n",
      "lover: 1 occurance\n",
      "entertain: 1 occurance\n",
      "these: 2 occurances\n",
      "well: 1 occurance\n",
      "spoken: 1 occurance\n",
      "days: 2 occurances\n",
      "determined: 1 occurance\n",
      "villain: 1 occurance\n",
      "hate: 2 occurances\n",
      "idle: 1 occurance\n",
      "pleasures: 1 occurance\n",
      "plots: 1 occurance\n",
      "laid: 1 occurance\n",
      "inductions: 1 occurance\n",
      "dangerous: 1 occurance\n",
      "drunken: 1 occurance\n",
      "prophecies: 1 occurance\n",
      "libels: 1 occurance\n",
      "dreams: 1 occurance\n",
      "set: 1 occurance\n",
      "brother: 1 occurance\n",
      "clarence: 3 occurances\n",
      "king: 2 occurances\n",
      "deadly: 1 occurance\n",
      "one: 1 occurance\n",
      "against: 1 occurance\n",
      "other: 1 occurance\n",
      "if: 1 occurance\n",
      "edward: 1 occurance\n",
      "be: 3 occurances\n",
      "true: 1 occurance\n",
      "just: 1 occurance\n",
      "subtle: 1 occurance\n",
      "false: 1 occurance\n",
      "treacherous: 1 occurance\n",
      "day: 1 occurance\n",
      "should: 1 occurance\n",
      "closely: 1 occurance\n",
      "mew'd: 1 occurance\n",
      "about: 1 occurance\n",
      "prophecy: 1 occurance\n",
      "which: 1 occurance\n",
      "says: 1 occurance\n",
      "g: 1 occurance\n",
      "edward's: 1 occurance\n",
      "heirs: 1 occurance\n",
      "murderer: 1 occurance\n",
      "shall: 1 occurance\n",
      "dive: 1 occurance\n",
      "thoughts: 1 occurance\n",
      "down: 1 occurance\n",
      "soul: 1 occurance\n",
      "here: 1 occurance\n",
      "comes: 1 occurance\n"
     ]
    }
   ],
   "source": [
    "dictionary = {}\n",
    "\n",
    "file = open('richard3.txt')\n",
    "for line in file:\n",
    "    words = line.split()\n",
    "    \n",
    "    for word in words:\n",
    "        word = word.lower()\n",
    "        \n",
    "        if word in dictionary:\n",
    "            dictionary[word] += 1\n",
    "        else:\n",
    "            dictionary[word] = 1\n",
    "infofile.close()\n",
    "            \n",
    "print(\"Dictionary of words in \")\n",
    "for word, number in dictionary.items():\n",
    "    if number == 1:\n",
    "        print(\"{}: {} occurance\".format(word, number))\n",
    "    else:\n",
    "        print(\"{}: {} occurances\".format(word, number))"
   ]
  },
  {
   "cell_type": "code",
   "execution_count": null,
   "metadata": {},
   "outputs": [],
   "source": []
  }
 ],
 "metadata": {
  "kernelspec": {
   "display_name": "Python 3 (ipykernel)",
   "language": "python",
   "name": "python3"
  },
  "language_info": {
   "codemirror_mode": {
    "name": "ipython",
    "version": 3
   },
   "file_extension": ".py",
   "mimetype": "text/x-python",
   "name": "python",
   "nbconvert_exporter": "python",
   "pygments_lexer": "ipython3",
   "version": "3.11.5"
  }
 },
 "nbformat": 4,
 "nbformat_minor": 4
}
